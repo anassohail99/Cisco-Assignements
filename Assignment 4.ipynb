{
 "cells": [
  {
   "cell_type": "markdown",
   "metadata": {},
   "source": [
    "# Q1"
   ]
  },
  {
   "cell_type": "code",
   "execution_count": 1,
   "metadata": {},
   "outputs": [
    {
     "name": "stdout",
     "output_type": "stream",
     "text": [
      "Enter your First name: Anas\n",
      "Enter your last name: Bin Sohail\n",
      "Enter your age: 20\n",
      "Enter your city: Karachi\n",
      "\n",
      "\n",
      "first_name : Anas\n",
      "Last name : Bin Sohail\n",
      "age : 20\n",
      "City : Karachi\n",
      "\n",
      "\t\tAdd Qualification\n",
      "Enter your qualification: Intermediate\n",
      "first_name : Anas\n",
      "Last name : Bin Sohail\n",
      "age : 20\n",
      "City : Karachi\n",
      "Qualification : Intermediate\n",
      "\n",
      "\t\t Updated\n",
      "first_name : Anas\n",
      "Last name : Bin Sohail\n",
      "age : 20\n",
      "City : Karachi\n",
      "Qualification : Higher academic Value\n",
      "\n",
      "\t\t After deleting\n",
      "first_name : Anas\n",
      "Last name : Bin Sohail\n",
      "age : 20\n",
      "City : Karachi\n"
     ]
    }
   ],
   "source": [
    "person = {\n",
    "    'first_name' : input(\"Enter your First name: \"),\n",
    "    'Last name' : input(\"Enter your last name: \"),\n",
    "    'age': input(\"Enter your age: \"),\n",
    "    'City': input(\"Enter your city: \")\n",
    "}\n",
    "print(\"\\n\")\n",
    "for key , value in person.items():\n",
    "    print(\"{} : {}\".format(key,value))\n",
    "\n",
    "print(\"\\n\\t\\tAdd Qualification\")\n",
    "person['Qualification'] = input('Enter your qualification: ')\n",
    "\n",
    "for key,value in person.items():\n",
    "    print(\"{} : {}\".format(key,value))\n",
    "print('\\n\\t\\t Updated')\n",
    "person['Qualification'] = 'Higher academic Value' \n",
    "for key , value in person.items():\n",
    "    print(\"{} : {}\".format(key,value))\n",
    "del person['Qualification']\n",
    "print(\"\\n\\t\\t After deleting\")\n",
    "for key , value in person.items():\n",
    "    print(\"{} : {}\".format(key,value))\n"
   ]
  },
  {
   "cell_type": "markdown",
   "metadata": {},
   "source": [
    "# Q2"
   ]
  },
  {
   "cell_type": "code",
   "execution_count": 2,
   "metadata": {},
   "outputs": [
    {
     "name": "stdout",
     "output_type": "stream",
     "text": [
      "\n",
      "City\n",
      "country : Pakistan \n",
      "Approx Popuplation : 12188000 \n",
      "Fact : Karachi is the backbone for the economy of Pakistan contributing in almost 40% of GDP \n",
      "\n",
      "City\n",
      "country : Pakistan \n",
      "Approx Popuplation : 15741000 \n",
      "Fact : The second largest province of Pakistan and the capital city of Punjab \n",
      "\n",
      "City\n",
      "country : Pakistan \n",
      "Approx Popuplation : 1095064 \n",
      "Fact : The capital city of Pakistan having Pakistans Largest Mosque SHAH FAISLA MOSQUE \n"
     ]
    }
   ],
   "source": [
    "cities = {\n",
    "    'Karachi':{\n",
    "        'country':'Pakistan',\n",
    "        'Approx Popuplation':12188000,\n",
    "        'Fact':'Karachi is the backbone for the economy of Pakistan contributing in almost 40% of GDP'\n",
    "    },\n",
    "    'Lahore':{\n",
    "        'country':'Pakistan',\n",
    "        'Approx Popuplation':15741000,\n",
    "        'Fact':'The second largest province of Pakistan and the capital city of Punjab'\n",
    "    },\n",
    "    'Islamabad':{\n",
    "        'country':'Pakistan',\n",
    "        'Approx Popuplation':1095064,\n",
    "        'Fact':'The capital city of Pakistan having Pakistans Largest Mosque SHAH FAISLA MOSQUE'\n",
    "    }\n",
    "}\n",
    "\n",
    "for k,v in cities.items():\n",
    "    print(f'\\n{key}')\n",
    "    for val in v:\n",
    "        print(f'{val} : {str(v[val])} ')"
   ]
  },
  {
   "cell_type": "markdown",
   "metadata": {},
   "source": [
    "# Q3"
   ]
  },
  {
   "cell_type": "code",
   "execution_count": 3,
   "metadata": {},
   "outputs": [
    {
     "name": "stdout",
     "output_type": "stream",
     "text": [
      "Enter your age: 2\n",
      "The ticket is free\n",
      "Do you want to buy ticket (y/n) : n\n",
      "Enter your age: 5\n",
      "The ticket price is 10$\n",
      "Do you want to buy ticket (y/n) : n\n",
      "Enter your age: 15\n",
      "The ticket price is 15$\n",
      "Do you want to buy ticket (y/n) : y\n",
      "Thanks for purcahsing\n"
     ]
    }
   ],
   "source": [
    "buy_ticket = 'n'\n",
    "while buy_ticket != 'y':\n",
    "    age = int(input('Enter your age: '))\n",
    "    if(age <= 3):\n",
    "        print(\"The ticket is free\")\n",
    "    elif(age >= 12):\n",
    "        print(\"The ticket price is 15$\")\n",
    "    else:\n",
    "        print(\"The ticket price is 10$\")\n",
    "    buy_ticket = input(\"Do you want to buy ticket (y/n) : \")\n",
    "    \n",
    "print('Thanks for purcahsing')"
   ]
  },
  {
   "cell_type": "markdown",
   "metadata": {},
   "source": [
    "# Q4"
   ]
  },
  {
   "cell_type": "code",
   "execution_count": 21,
   "metadata": {},
   "outputs": [
    {
     "name": "stdout",
     "output_type": "stream",
     "text": [
      "Enter your book title : Alice in the wonder Land\n",
      "One of my favourite book is Alice in the wonder Land\n"
     ]
    }
   ],
   "source": [
    "def favouriteBook(title):\n",
    "    print(f'One of my favourite book is {title}')\n",
    "    \n",
    "favouriteBook(input('Enter your book title : '))"
   ]
  },
  {
   "cell_type": "markdown",
   "metadata": {},
   "source": [
    "# Q5"
   ]
  },
  {
   "cell_type": "code",
   "execution_count": null,
   "metadata": {},
   "outputs": [],
   "source": []
  },
  {
   "cell_type": "code",
   "execution_count": 34,
   "metadata": {},
   "outputs": [
    {
     "name": "stdout",
     "output_type": "stream",
     "text": [
      "Enter your guessed Number : 1\n",
      "You have 2 chances left\n",
      "\n",
      "*****You have guessed a lesser number*****\n",
      "\n",
      "Enter your guessed Number : 20\n",
      "You have 1 chances left\n",
      "\n",
      "*****you have guessed a greater number*****\n",
      "\n",
      "Enter your guessed Number : 14\n",
      "You have 0 chances left\n",
      "\n",
      "*****You have guessed the right number*****\n",
      "\n"
     ]
    }
   ],
   "source": [
    "import random\n",
    "chances = 3\n",
    "random_num = int(random.randint(1,30))\n",
    "while chances != 0:\n",
    "    guess = int(input('Enter your guessed Number : '))\n",
    "    print(f\"You have {chances-1} chances left\\n\")\n",
    "    chances = chances - 1 \n",
    "    if guess > random_num:\n",
    "        print('*****you have guessed a greater number*****\\n')\n",
    "    elif guess < random_num:\n",
    "        print('*****You have guessed a lesser number*****\\n')\n",
    "    else:\n",
    "        print('*****You have guessed the right number*****\\n')"
   ]
  },
  {
   "cell_type": "code",
   "execution_count": null,
   "metadata": {},
   "outputs": [],
   "source": [
    " "
   ]
  }
 ],
 "metadata": {
  "kernelspec": {
   "display_name": "Python 3",
   "language": "python",
   "name": "python3"
  },
  "language_info": {
   "codemirror_mode": {
    "name": "ipython",
    "version": 3
   },
   "file_extension": ".py",
   "mimetype": "text/x-python",
   "name": "python",
   "nbconvert_exporter": "python",
   "pygments_lexer": "ipython3",
   "version": "3.7.3"
  }
 },
 "nbformat": 4,
 "nbformat_minor": 2
}
