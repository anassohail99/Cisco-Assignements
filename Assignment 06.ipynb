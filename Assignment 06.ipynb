{
 "cells": [
  {
   "cell_type": "markdown",
   "metadata": {},
   "source": [
    "# Qno : 01"
   ]
  },
  {
   "cell_type": "markdown",
   "metadata": {},
   "source": [
    "### Define Object Oriented Programming Language?"
   ]
  },
  {
   "cell_type": "markdown",
   "metadata": {},
   "source": [
    "##### Object-oriented programming (OOP) is a programming language model in which programs are orgaic.\n",
    "##### An object can be defined as a data field that has unique attributes and behavior.\n",
    "##### organized around data, or objects, rather than functions and log"
   ]
  },
  {
   "cell_type": "markdown",
   "metadata": {},
   "source": [
    "# Qno : 02"
   ]
  },
  {
   "cell_type": "markdown",
   "metadata": {},
   "source": [
    "### List down the Benefits of OOP?"
   ]
  },
  {
   "cell_type": "markdown",
   "metadata": {},
   "source": [
    "##### Following are some of the main benifits of using oop(object orientedp programming)\n",
    "\n",
    "##### 1. It makes software easier to maintain\n",
    "##### 2. Reuse also enables faster development.\n",
    "##### 3. Objects can also be reused within an across applications\n",
    "##### 4. provides a clear modular structure for programs which makes it good for defining abstract datatypes\n",
    "##### 5. Easy to understand"
   ]
  },
  {
   "cell_type": "markdown",
   "metadata": {},
   "source": [
    "# Qno : 03"
   ]
  },
  {
   "cell_type": "markdown",
   "metadata": {},
   "source": [
    "### Differentiate between function and method?"
   ]
  },
  {
   "cell_type": "markdown",
   "metadata": {},
   "source": [
    "### METHOD\n",
    "\n",
    "##### In python a Method is called by its name, but it is associated to an object.\n",
    "##### A method is implicitly passed the object on which it is invoked.\n",
    "##### It may or may not return any data.\n",
    "##### A method can operate on the data (instance variables) that is contained by the corresponding class\n",
    "\n",
    "### FUNCTION\n",
    "\n",
    "##### Function is block of code that is also called by its name.\n",
    "##### The function can have different parameters or may not have any at all. If any data (parameters) are passed,\n",
    "##### they are passed explicitly.\n",
    "##### It may or may not return any data.\n",
    "##### Function does not deal with Class and its instance concept."
   ]
  },
  {
   "cell_type": "markdown",
   "metadata": {},
   "source": [
    "# Qno : 04"
   ]
  },
  {
   "cell_type": "markdown",
   "metadata": {},
   "source": [
    "### Define the following terms:\n",
    "### 1. Class\n",
    "### 2. Object\n",
    "### 3. Attribute\n",
    "### 4. Behavior"
   ]
  },
  {
   "cell_type": "markdown",
   "metadata": {},
   "source": [
    "### CLASS\n",
    "\n",
    "#### A class is a code template for creating objects. Objects have member variables and have behaviour associated with them.\n",
    "#### In python a class is created by the keyword class."
   ]
  },
  {
   "cell_type": "markdown",
   "metadata": {},
   "source": [
    "### OBJECT\n",
    "\n",
    "#### Object is simply a collection of data (variables) and methods (functions) that act on those data. And, \n",
    "#### class is a blueprint for the object."
   ]
  },
  {
   "cell_type": "markdown",
   "metadata": {},
   "source": [
    "### ATTRIBUTE\n",
    "\n",
    "#### An attribute is a specification that defines a property of an object, element, or file. \n",
    "#### It may also refer to or set the specific value for a given instance of such. \n",
    "#### For clarity, attributes should more correctly be considered metadata."
   ]
  },
  {
   "cell_type": "markdown",
   "metadata": {},
   "source": [
    "### BEHAVIOR\n",
    "\n",
    "\n",
    "#### behave is behavior-driven development, Python style. Behavior-driven development (or BDD) is an \n",
    "#### agile software development technique that encourages collaboration between developers,\n",
    "#### QA and non-technical or business participants ##### in a software project.\n"
   ]
  },
  {
   "cell_type": "markdown",
   "metadata": {},
   "source": [
    "# Qno : 05"
   ]
  },
  {
   "cell_type": "markdown",
   "metadata": {},
   "source": [
    "### Write a code in python in which create a class named it Car which\n",
    "### have 5 attributes such like (model, color and name etc.) and 3\n",
    "### methods. And create 5 object instance from that class."
   ]
  },
  {
   "cell_type": "code",
   "execution_count": 15,
   "metadata": {},
   "outputs": [
    {
     "name": "stdout",
     "output_type": "stream",
     "text": [
      " Suzuki Ciaz is a used car\n",
      " Suzuki Ciaz has Non Alloy wheels\n",
      " Suzuki Ciaz is  Insured\n",
      "\n",
      "=================================\n",
      "\n",
      " Toyota Fortuner is a New car\n",
      " Toyota Fortuner has Alloy wheels\n",
      " Toyota Fortuner is  Not Insured\n",
      "\n",
      "=================================\n",
      "\n",
      " Honda CRZ is a New car\n",
      " Honda CRZ has Alloy wheels\n",
      " Honda CRZ is  Not Insured\n"
     ]
    }
   ],
   "source": [
    "class Car:\n",
    "    \n",
    "    # attributes\n",
    "    def __init__ (self,brand,name,color,model,doors):\n",
    "        self.brand = brand\n",
    "        self.name = name\n",
    "        self.color = color\n",
    "        self.model = model\n",
    "        self.doors = doors\n",
    "    \n",
    "    # methods\n",
    "    \n",
    "    def cond(self,condition):\n",
    "        print(\" \"+self.brand+ \" \" + self.name + \" is a \" + condition + \" car\")\n",
    "        \n",
    "    def wheel(self,wheels):\n",
    "        print(\" \"+self.brand+ \" \" + self.name + \" has \" + wheels + \" wheels\")\n",
    "        \n",
    "    def insure(self,insured):\n",
    "        print(\" \"+self.brand+ \" \" + self.name + \" is \" ,insured)\n",
    "\n",
    "        \n",
    "        \n",
    "car1 = Car('Suzuki','Ciaz','Blue','2019','4')\n",
    "car1.cond('used')\n",
    "car1.wheel(\"Non Alloy\")\n",
    "car1.insure('Insured')\n",
    "\n",
    "print(\"\\n=================================\\n\")\n",
    "\n",
    "car2 = Car('Toyota','Fortuner','White','2019','4')\n",
    "car2.cond('New')\n",
    "car2.wheel(\"Alloy\")\n",
    "car2.insure('Not Insured')\n",
    "\n",
    "print(\"\\n=================================\\n\")\n",
    "\n",
    "car3 = Car('Honda','CRZ','Black','2019','2')\n",
    "car3.cond('New')\n",
    "car3.wheel(\"Alloy\")\n",
    "car3.insure('Not Insured')"
   ]
  },
  {
   "cell_type": "code",
   "execution_count": null,
   "metadata": {},
   "outputs": [],
   "source": []
  },
  {
   "cell_type": "code",
   "execution_count": null,
   "metadata": {},
   "outputs": [],
   "source": []
  }
 ],
 "metadata": {
  "kernelspec": {
   "display_name": "Python 3",
   "language": "python",
   "name": "python3"
  },
  "language_info": {
   "codemirror_mode": {
    "name": "ipython",
    "version": 3
   },
   "file_extension": ".py",
   "mimetype": "text/x-python",
   "name": "python",
   "nbconvert_exporter": "python",
   "pygments_lexer": "ipython3",
   "version": "3.7.3"
  }
 },
 "nbformat": 4,
 "nbformat_minor": 2
}
